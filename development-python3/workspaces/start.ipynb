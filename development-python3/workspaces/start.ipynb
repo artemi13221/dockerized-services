{
 "cells": [
  {
   "cell_type": "code",
   "execution_count": 1,
   "id": "c936b9ba-3464-40fb-bf6e-4d6ba71f73e9",
   "metadata": {},
   "outputs": [
    {
     "name": "stdout",
     "output_type": "stream",
     "text": [
      "docker: development-python3\n"
     ]
    }
   ],
   "source": [
    "print('docker: development-python3')"
   ]
  }
 ],
 "metadata": {
  "kernelspec": {
   "display_name": "Python 3",
   "language": "python",
   "name": "python3"
  },
  "language_info": {
   "codemirror_mode": {
    "name": "ipython",
    "version": 3
   },
   "file_extension": ".py",
   "mimetype": "text/x-python",
   "name": "python",
   "nbconvert_exporter": "python",
   "pygments_lexer": "ipython3",
   "version": "3.9.5"
  }
 },
 "nbformat": 4,
 "nbformat_minor": 5
}
